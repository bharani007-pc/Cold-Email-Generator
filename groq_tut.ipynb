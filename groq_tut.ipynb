{
 "cells": [
  {
   "cell_type": "code",
   "execution_count": 1,
   "id": "f287da4a-4b37-4250-a594-a8dd78d5dfd6",
   "metadata": {},
   "outputs": [],
   "source": [
    "from langchain_groq import ChatGroq"
   ]
  },
  {
   "cell_type": "code",
   "execution_count": 5,
   "id": "eaa642ff-b7a5-4d06-84be-a650a0bf2c3d",
   "metadata": {},
   "outputs": [],
   "source": [
    "from langchain_groq import ChatGroq\n",
    "\n",
    "llm = ChatGroq(\n",
    "    temperature=0,\n",
    "    groq_api_key= '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',\n",
    "    model_name=\"llama-3.1-70b-versatile\"\n",
    ")"
   ]
  },
  {
   "cell_type": "code",
   "execution_count": 6,
   "id": "cc3698fa-48bc-48e4-bf46-9031a7beda6c",
   "metadata": {},
   "outputs": [
    {
     "name": "stdout",
     "output_type": "stream",
     "text": [
      "**Python Overview**\n",
      "=====================\n",
      "\n",
      "Python is a high-level, interpreted programming language that is widely used for various purposes such as web development, scientific computing, data analysis, artificial intelligence, and more. Created in the late 1980s by Guido van Rossum, Python is known for its simplicity, readability, and ease of use.\n",
      "\n",
      "**Key Features of Python**\n",
      "-------------------------\n",
      "\n",
      "*   **Easy to Learn**: Python has a simple syntax and is relatively easy to learn, making it a great language for beginners.\n",
      "*   **High-Level Language**: Python is a high-level language, meaning it abstracts away many low-level details, allowing developers to focus on the logic of the program without worrying about memory management and other details.\n",
      "*   **Interpreted Language**: Python code is interpreted line by line, making it easier to write and test code.\n",
      "*   **Object-Oriented**: Python is an object-oriented language, which means it organizes code into objects that contain data and functions that operate on that data.\n",
      "*   **Large Standard Library**: Python has a vast collection of libraries and modules that make it easy to perform various tasks, such as file I/O, networking, and data analysis.\n",
      "\n",
      "**Use Cases for Python**\n",
      "------------------------\n",
      "\n",
      "*   **Web Development**: Python is used in web development to build web applications and web services using popular frameworks like Django and Flask.\n",
      "*   **Data Analysis and Science**: Python is widely used in data analysis, machine learning, and scientific computing, thanks to libraries like NumPy, pandas, and scikit-learn.\n",
      "*   **Artificial Intelligence and Machine Learning**: Python is used in AI and ML to build models, train algorithms, and make predictions using libraries like TensorFlow and Keras.\n",
      "*   **Automation**: Python is used to automate tasks, such as data entry, file management, and system administration, using libraries like PyAutoGUI and paramiko.\n",
      "\n",
      "**Example Python Code**\n",
      "------------------------\n",
      "\n",
      "Here's an example of a simple Python program that prints \"Hello, World!\" to the console:\n",
      "```python\n",
      "# Print \"Hello, World!\" to the console\n",
      "print(\"Hello, World!\")\n",
      "```\n",
      "This code demonstrates the simplicity and readability of Python.\n",
      "\n",
      "**Getting Started with Python**\n",
      "------------------------------\n",
      "\n",
      "To get started with Python, you'll need to:\n",
      "\n",
      "1.  Install Python on your computer (if you haven't already).\n",
      "2.  Choose a text editor or IDE (Integrated Development Environment) to write your code.\n",
      "3.  Start writing Python code using the syntax and features described above.\n",
      "\n",
      "I hope this helps! Let me know if you have any questions or need further clarification.\n"
     ]
    }
   ],
   "source": [
    "response = llm.invoke(\"what is pyhton\")\n",
    "print(response.content)"
   ]
  },
  {
   "cell_type": "code",
   "execution_count": 9,
   "id": "d0a570ac-d8f6-4c6e-9ee9-2774051bfdca",
   "metadata": {},
   "outputs": [],
   "source": [
    "import chromadb\n",
    "client= chromadb.Client()\n",
    "collection = client.create_collection(name = \"my_collection\")"
   ]
  },
  {
   "cell_type": "code",
   "execution_count": 10,
   "id": "501fae87-920d-46e2-881e-c0b2d1fc958e",
   "metadata": {},
   "outputs": [
    {
     "name": "stderr",
     "output_type": "stream",
     "text": [
      "C:\\Users\\Bharani Selvaraj\\.cache\\chroma\\onnx_models\\all-MiniLM-L6-v2\\onnx.tar.gz: 100%|█| 79.3M/79.3M [00:07<00:00, 11.\n"
     ]
    }
   ],
   "source": [
    "collection.add(documents = [\"This document about vijay\",\"This document about dhoni\"],\n",
    "              ids = ['id1','id2']\n",
    "              )"
   ]
  },
  {
   "cell_type": "code",
   "execution_count": 17,
   "id": "95ee0385-51db-410f-a28c-8f02ac3d6ec7",
   "metadata": {},
   "outputs": [
    {
     "data": {
      "text/plain": [
       "{'ids': [['id2', 'id1']],\n",
       " 'embeddings': None,\n",
       " 'documents': [['This document about dhoni', 'This document about vijay']],\n",
       " 'uris': None,\n",
       " 'data': None,\n",
       " 'metadatas': [[None, None]],\n",
       " 'distances': [[1.6825975179672241, 1.824950098991394]],\n",
       " 'included': [<IncludeEnum.distances: 'distances'>,\n",
       "  <IncludeEnum.documents: 'documents'>,\n",
       "  <IncludeEnum.metadatas: 'metadatas'>]}"
      ]
     },
     "execution_count": 17,
     "metadata": {},
     "output_type": "execute_result"
    }
   ],
   "source": [
    "results = collection.query(query_texts = ['Query is about captian'],\n",
    "                           n_results =2)\n",
    "results"
   ]
  },
  {
   "cell_type": "code",
   "execution_count": 1,
   "id": "ac317cc3-0e51-4c24-bfb3-b015e4fc55c6",
   "metadata": {},
   "outputs": [
    {
     "name": "stdout",
     "output_type": "stream",
     "text": [
      "Collecting pandas\n",
      "  Obtaining dependency information for pandas from https://files.pythonhosted.org/packages/ed/8c/87ddf1fcb55d11f9f847e3c69bb1c6f8e46e2f40ab1a2d2abadb2401b007/pandas-2.2.3-cp311-cp311-win_amd64.whl.metadata\n",
      "  Downloading pandas-2.2.3-cp311-cp311-win_amd64.whl.metadata (19 kB)\n",
      "Requirement already satisfied: numpy>=1.23.2 in c:\\users\\bharani selvaraj\\appdata\\local\\packages\\pythonsoftwarefoundation.python.3.11_qbz5n2kfra8p0\\localcache\\local-packages\\python311\\site-packages (from pandas) (1.25.1)\n",
      "Requirement already satisfied: python-dateutil>=2.8.2 in c:\\users\\bharani selvaraj\\appdata\\local\\packages\\pythonsoftwarefoundation.python.3.11_qbz5n2kfra8p0\\localcache\\local-packages\\python311\\site-packages (from pandas) (2.8.2)\n",
      "Requirement already satisfied: pytz>=2020.1 in c:\\users\\bharani selvaraj\\appdata\\local\\packages\\pythonsoftwarefoundation.python.3.11_qbz5n2kfra8p0\\localcache\\local-packages\\python311\\site-packages (from pandas) (2024.2)\n",
      "Requirement already satisfied: tzdata>=2022.7 in c:\\users\\bharani selvaraj\\appdata\\local\\packages\\pythonsoftwarefoundation.python.3.11_qbz5n2kfra8p0\\localcache\\local-packages\\python311\\site-packages (from pandas) (2024.2)\n",
      "Requirement already satisfied: six>=1.5 in c:\\users\\bharani selvaraj\\appdata\\local\\packages\\pythonsoftwarefoundation.python.3.11_qbz5n2kfra8p0\\localcache\\local-packages\\python311\\site-packages (from python-dateutil>=2.8.2->pandas) (1.16.0)\n",
      "Downloading pandas-2.2.3-cp311-cp311-win_amd64.whl (11.6 MB)\n",
      "   ---------------------------------------- 0.0/11.6 MB ? eta -:--:--\n",
      "   ---------------------------------------- 0.0/11.6 MB ? eta -:--:--\n",
      "   ---------------------------------------- 0.1/11.6 MB 1.2 MB/s eta 0:00:10\n",
      "   - -------------------------------------- 0.5/11.6 MB 4.1 MB/s eta 0:00:03\n",
      "   - -------------------------------------- 0.5/11.6 MB 4.3 MB/s eta 0:00:03\n",
      "   - -------------------------------------- 0.5/11.6 MB 4.3 MB/s eta 0:00:03\n",
      "   -- ------------------------------------- 0.7/11.6 MB 2.9 MB/s eta 0:00:04\n",
      "   -- ------------------------------------- 0.7/11.6 MB 2.9 MB/s eta 0:00:04\n",
      "   -- ------------------------------------- 0.8/11.6 MB 2.6 MB/s eta 0:00:05\n",
      "   --- ------------------------------------ 1.0/11.6 MB 2.7 MB/s eta 0:00:04\n",
      "   --- ------------------------------------ 1.1/11.6 MB 2.8 MB/s eta 0:00:04\n",
      "   --- ------------------------------------ 1.1/11.6 MB 2.5 MB/s eta 0:00:05\n",
      "   ---- ----------------------------------- 1.2/11.6 MB 2.6 MB/s eta 0:00:05\n",
      "   ---- ----------------------------------- 1.2/11.6 MB 2.6 MB/s eta 0:00:05\n",
      "   ---- ----------------------------------- 1.3/11.6 MB 2.2 MB/s eta 0:00:05\n",
      "   ---- ----------------------------------- 1.3/11.6 MB 2.1 MB/s eta 0:00:05\n",
      "   ----- ---------------------------------- 1.5/11.6 MB 2.2 MB/s eta 0:00:05\n",
      "   ----- ---------------------------------- 1.5/11.6 MB 2.2 MB/s eta 0:00:05\n",
      "   ----- ---------------------------------- 1.5/11.6 MB 2.0 MB/s eta 0:00:05\n",
      "   ----- ---------------------------------- 1.5/11.6 MB 2.0 MB/s eta 0:00:05\n",
      "   ----- ---------------------------------- 1.7/11.6 MB 2.1 MB/s eta 0:00:05\n",
      "   ----- ---------------------------------- 1.7/11.6 MB 2.0 MB/s eta 0:00:05\n",
      "   ------ --------------------------------- 1.9/11.6 MB 2.1 MB/s eta 0:00:05\n",
      "   ------- -------------------------------- 2.2/11.6 MB 2.2 MB/s eta 0:00:05\n",
      "   -------- ------------------------------- 2.4/11.6 MB 2.4 MB/s eta 0:00:04\n",
      "   --------- ------------------------------ 2.7/11.6 MB 2.6 MB/s eta 0:00:04\n",
      "   --------- ------------------------------ 2.7/11.6 MB 2.6 MB/s eta 0:00:04\n",
      "   --------- ------------------------------ 2.7/11.6 MB 2.4 MB/s eta 0:00:04\n",
      "   --------- ------------------------------ 2.9/11.6 MB 2.5 MB/s eta 0:00:04\n",
      "   ---------- ----------------------------- 2.9/11.6 MB 2.4 MB/s eta 0:00:04\n",
      "   ----------- ---------------------------- 3.3/11.6 MB 2.6 MB/s eta 0:00:04\n",
      "   ------------ --------------------------- 3.6/11.6 MB 2.7 MB/s eta 0:00:03\n",
      "   ------------ --------------------------- 3.6/11.6 MB 2.7 MB/s eta 0:00:03\n",
      "   ------------ --------------------------- 3.6/11.6 MB 2.7 MB/s eta 0:00:03\n",
      "   ------------ --------------------------- 3.7/11.6 MB 2.7 MB/s eta 0:00:03\n",
      "   ------------ --------------------------- 3.7/11.6 MB 2.5 MB/s eta 0:00:04\n",
      "   ------------- -------------------------- 3.8/11.6 MB 2.6 MB/s eta 0:00:03\n",
      "   ------------- -------------------------- 3.8/11.6 MB 2.6 MB/s eta 0:00:03\n",
      "   ------------- -------------------------- 3.9/11.6 MB 2.5 MB/s eta 0:00:04\n",
      "   ------------- -------------------------- 3.9/11.6 MB 2.5 MB/s eta 0:00:04\n",
      "   ------------- -------------------------- 4.0/11.6 MB 2.4 MB/s eta 0:00:04\n",
      "   ------------- -------------------------- 4.0/11.6 MB 2.4 MB/s eta 0:00:04\n",
      "   -------------- ------------------------- 4.2/11.6 MB 2.4 MB/s eta 0:00:04\n",
      "   --------------- ------------------------ 4.4/11.6 MB 2.5 MB/s eta 0:00:03\n",
      "   ---------------- ----------------------- 4.7/11.6 MB 2.5 MB/s eta 0:00:03\n",
      "   ----------------- ---------------------- 5.1/11.6 MB 2.7 MB/s eta 0:00:03\n",
      "   ----------------- ---------------------- 5.1/11.6 MB 2.7 MB/s eta 0:00:03\n",
      "   ------------------ --------------------- 5.3/11.6 MB 2.6 MB/s eta 0:00:03\n",
      "   ------------------ --------------------- 5.5/11.6 MB 2.7 MB/s eta 0:00:03\n",
      "   ------------------- -------------------- 5.6/11.6 MB 2.7 MB/s eta 0:00:03\n",
      "   -------------------- ------------------- 6.1/11.6 MB 2.9 MB/s eta 0:00:02\n",
      "   --------------------- ------------------ 6.2/11.6 MB 2.9 MB/s eta 0:00:02\n",
      "   --------------------- ------------------ 6.2/11.6 MB 2.9 MB/s eta 0:00:02\n",
      "   --------------------- ------------------ 6.3/11.6 MB 2.9 MB/s eta 0:00:02\n",
      "   --------------------- ------------------ 6.3/11.6 MB 2.9 MB/s eta 0:00:02\n",
      "   ---------------------- ----------------- 6.5/11.6 MB 2.8 MB/s eta 0:00:02\n",
      "   ---------------------- ----------------- 6.5/11.6 MB 2.8 MB/s eta 0:00:02\n",
      "   ---------------------- ----------------- 6.5/11.6 MB 2.8 MB/s eta 0:00:02\n",
      "   ---------------------- ----------------- 6.7/11.6 MB 2.7 MB/s eta 0:00:02\n",
      "   ----------------------- ---------------- 6.8/11.6 MB 2.7 MB/s eta 0:00:02\n",
      "   ----------------------- ---------------- 6.8/11.6 MB 2.7 MB/s eta 0:00:02\n",
      "   ----------------------- ---------------- 6.9/11.6 MB 2.7 MB/s eta 0:00:02\n",
      "   ----------------------- ---------------- 6.9/11.6 MB 2.7 MB/s eta 0:00:02\n",
      "   ------------------------ --------------- 7.0/11.6 MB 2.6 MB/s eta 0:00:02\n",
      "   ------------------------ --------------- 7.0/11.6 MB 2.6 MB/s eta 0:00:02\n",
      "   ------------------------ --------------- 7.1/11.6 MB 2.6 MB/s eta 0:00:02\n",
      "   ------------------------ --------------- 7.2/11.6 MB 2.6 MB/s eta 0:00:02\n",
      "   ------------------------- -------------- 7.5/11.6 MB 2.7 MB/s eta 0:00:02\n",
      "   -------------------------- ------------- 7.7/11.6 MB 2.7 MB/s eta 0:00:02\n",
      "   --------------------------- ------------ 7.9/11.6 MB 2.7 MB/s eta 0:00:02\n",
      "   ---------------------------- ----------- 8.3/11.6 MB 2.8 MB/s eta 0:00:02\n",
      "   ---------------------------- ----------- 8.4/11.6 MB 2.8 MB/s eta 0:00:02\n",
      "   ----------------------------- ---------- 8.5/11.6 MB 2.8 MB/s eta 0:00:02\n",
      "   ----------------------------- ---------- 8.6/11.6 MB 2.8 MB/s eta 0:00:02\n",
      "   ----------------------------- ---------- 8.7/11.6 MB 2.8 MB/s eta 0:00:02\n",
      "   ------------------------------- -------- 9.0/11.6 MB 2.9 MB/s eta 0:00:01\n",
      "   ------------------------------- -------- 9.2/11.6 MB 2.9 MB/s eta 0:00:01\n",
      "   ------------------------------- -------- 9.2/11.6 MB 2.9 MB/s eta 0:00:01\n",
      "   ------------------------------- -------- 9.3/11.6 MB 2.8 MB/s eta 0:00:01\n",
      "   -------------------------------- ------- 9.3/11.6 MB 2.8 MB/s eta 0:00:01\n",
      "   -------------------------------- ------- 9.5/11.6 MB 2.8 MB/s eta 0:00:01\n",
      "   -------------------------------- ------- 9.5/11.6 MB 2.8 MB/s eta 0:00:01\n",
      "   -------------------------------- ------- 9.5/11.6 MB 2.7 MB/s eta 0:00:01\n",
      "   -------------------------------- ------- 9.5/11.6 MB 2.7 MB/s eta 0:00:01\n",
      "   -------------------------------- ------- 9.5/11.6 MB 2.7 MB/s eta 0:00:01\n",
      "   --------------------------------- ------ 9.6/11.6 MB 2.7 MB/s eta 0:00:01\n",
      "   --------------------------------- ------ 9.6/11.6 MB 2.7 MB/s eta 0:00:01\n",
      "   --------------------------------- ------ 9.6/11.6 MB 2.7 MB/s eta 0:00:01\n",
      "   --------------------------------- ------ 9.7/11.6 MB 2.6 MB/s eta 0:00:01\n",
      "   --------------------------------- ------ 9.8/11.6 MB 2.6 MB/s eta 0:00:01\n",
      "   ---------------------------------- ----- 10.0/11.6 MB 2.7 MB/s eta 0:00:01\n",
      "   ---------------------------------- ----- 10.1/11.6 MB 2.6 MB/s eta 0:00:01\n",
      "   ------------------------------------ --- 10.5/11.6 MB 2.7 MB/s eta 0:00:01\n",
      "   ------------------------------------ --- 10.5/11.6 MB 2.7 MB/s eta 0:00:01\n",
      "   ------------------------------------- -- 10.8/11.6 MB 2.7 MB/s eta 0:00:01\n",
      "   ------------------------------------- -- 10.9/11.6 MB 2.7 MB/s eta 0:00:01\n",
      "   ------------------------------------- -- 11.0/11.6 MB 2.8 MB/s eta 0:00:01\n",
      "   ------------------------------------- -- 11.0/11.6 MB 2.7 MB/s eta 0:00:01\n",
      "   ------------------------------------- -- 11.0/11.6 MB 2.7 MB/s eta 0:00:01\n",
      "   -------------------------------------- - 11.1/11.6 MB 2.6 MB/s eta 0:00:01\n",
      "   -------------------------------------- - 11.1/11.6 MB 2.6 MB/s eta 0:00:01\n",
      "   -------------------------------------- - 11.1/11.6 MB 2.6 MB/s eta 0:00:01\n",
      "   -------------------------------------- - 11.2/11.6 MB 2.6 MB/s eta 0:00:01\n",
      "   -------------------------------------- - 11.3/11.6 MB 2.6 MB/s eta 0:00:01\n",
      "   -------------------------------------- - 11.3/11.6 MB 2.6 MB/s eta 0:00:01\n",
      "   ---------------------------------------  11.3/11.6 MB 2.5 MB/s eta 0:00:01\n",
      "   ---------------------------------------  11.3/11.6 MB 2.5 MB/s eta 0:00:01\n",
      "   ---------------------------------------  11.4/11.6 MB 2.5 MB/s eta 0:00:01\n",
      "   ---------------------------------------  11.4/11.6 MB 2.5 MB/s eta 0:00:01\n",
      "   ---------------------------------------  11.4/11.6 MB 2.5 MB/s eta 0:00:01\n",
      "   ---------------------------------------  11.5/11.6 MB 2.5 MB/s eta 0:00:01\n",
      "   ---------------------------------------  11.6/11.6 MB 2.5 MB/s eta 0:00:01\n",
      "   ---------------------------------------  11.6/11.6 MB 2.5 MB/s eta 0:00:01\n",
      "   ---------------------------------------- 11.6/11.6 MB 2.5 MB/s eta 0:00:00\n",
      "Installing collected packages: pandas\n",
      "Successfully installed pandas-2.2.3\n"
     ]
    },
    {
     "name": "stderr",
     "output_type": "stream",
     "text": [
      "\n",
      "[notice] A new release of pip is available: 23.2.1 -> 24.3.1\n",
      "[notice] To update, run: C:\\Users\\Bharani Selvaraj\\AppData\\Local\\Microsoft\\WindowsApps\\PythonSoftwareFoundation.Python.3.11_qbz5n2kfra8p0\\python.exe -m pip install --upgrade pip\n"
     ]
    }
   ],
   "source": [
    "!pip install pandas"
   ]
  },
  {
   "cell_type": "code",
   "execution_count": 2,
   "id": "b31993a3-e915-4aad-9916-1df43242d33d",
   "metadata": {},
   "outputs": [
    {
     "name": "stdout",
     "output_type": "stream",
     "text": [
      "Collecting uuid\n",
      "  Downloading uuid-1.30.tar.gz (5.8 kB)\n",
      "  Installing build dependencies: started\n",
      "  Installing build dependencies: finished with status 'done'\n",
      "  Getting requirements to build wheel: started\n",
      "  Getting requirements to build wheel: finished with status 'done'\n",
      "  Preparing metadata (pyproject.toml): started\n",
      "  Preparing metadata (pyproject.toml): finished with status 'done'\n",
      "Building wheels for collected packages: uuid\n",
      "  Building wheel for uuid (pyproject.toml): started\n",
      "  Building wheel for uuid (pyproject.toml): finished with status 'done'\n",
      "  Created wheel for uuid: filename=uuid-1.30-py3-none-any.whl size=6486 sha256=d486cc531c2c7afccfa4ec8848b817f79d0cc830e6e85b7520c4a7bb04bae2a5\n",
      "  Stored in directory: c:\\users\\bharani selvaraj\\appdata\\local\\pip\\cache\\wheels\\e0\\01\\df\\bd20df409bd81f8b99e6cd343c5f49731dc0a20eefefdafae0\n",
      "Successfully built uuid\n",
      "Installing collected packages: uuid\n",
      "Successfully installed uuid-1.30\n"
     ]
    },
    {
     "name": "stderr",
     "output_type": "stream",
     "text": [
      "\n",
      "[notice] A new release of pip is available: 23.2.1 -> 24.3.1\n",
      "[notice] To update, run: C:\\Users\\Bharani Selvaraj\\AppData\\Local\\Microsoft\\WindowsApps\\PythonSoftwareFoundation.Python.3.11_qbz5n2kfra8p0\\python.exe -m pip install --upgrade pip\n"
     ]
    }
   ],
   "source": [
    "!pip install uuid"
   ]
  },
  {
   "cell_type": "code",
   "execution_count": null,
   "id": "f8de7800-fec0-4c58-837e-f268dbc55c86",
   "metadata": {},
   "outputs": [],
   "source": []
  }
 ],
 "metadata": {
  "kernelspec": {
   "display_name": "Python 3 (ipykernel)",
   "language": "python",
   "name": "python3"
  },
  "language_info": {
   "codemirror_mode": {
    "name": "ipython",
    "version": 3
   },
   "file_extension": ".py",
   "mimetype": "text/x-python",
   "name": "python",
   "nbconvert_exporter": "python",
   "pygments_lexer": "ipython3",
   "version": "3.11.5"
  }
 },
 "nbformat": 4,
 "nbformat_minor": 5
}
