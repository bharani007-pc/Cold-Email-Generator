{
 "cells": [
  {
   "cell_type": "code",
   "execution_count": 2,
   "id": "b49b7b89-b907-457c-95a7-8fb8171617fb",
   "metadata": {},
   "outputs": [],
   "source": [
    "from langchain_groq import ChatGroq"
   ]
  },
  {
   "cell_type": "code",
   "execution_count": 74,
   "id": "0fbc57d4-26f9-4b85-a0d3-9dfe3b734e46",
   "metadata": {},
   "outputs": [],
   "source": [
    "from langchain_groq import ChatGroq\n",
    "\n",
    "llm = ChatGroq(\n",
    "    temperature=0,\n",
    "    groq_api_key= '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',\n",
    "    model_name=\"llama-3.1-70b-versatile\"\n",
    ")"
   ]
  },
  {
   "cell_type": "code",
   "execution_count": 75,
   "id": "6398d761-c2ea-4c08-b8fa-575c18dbd0e1",
   "metadata": {},
   "outputs": [],
   "source": [
    "from langchain_community.document_loaders import WebBaseLoader\n",
    "loader = WebBaseLoader(\"https://jobdetails.nestle.com/job/St_-Louis-Senior-Data-Scientist-MO-63164/1139607501/?feedId=256801&utm_source=NestleCareers\")\n",
    "\n",
    "page_data = loader.load().pop().page_content"
   ]
  },
  {
   "cell_type": "code",
   "execution_count": 76,
   "id": "2fd25065-25ed-409f-a441-6970556333f2",
   "metadata": {},
   "outputs": [
    {
     "name": "stdout",
     "output_type": "stream",
     "text": [
      "```\n",
      "{\n",
      "  \"role\": \"Senior Data Scientist\",\n",
      "  \"experience\": \"Bachelor’s degree with 5 years of experience in data science, machine learning, artificial intelligence capabilities in the design, development and deployment of business solutions OR equivalent advanced degree (Master’s, Doctorate) with 2+ years of experience\",\n",
      "  \"skills\": \"Python, R, Databricks, analytical, statistical, unsupervised/supervised learning, optimization, and visualization techniques\",\n",
      "  \"description\": \"Apply advanced data science, machine learning, and artificial intelligence capabilities to develop and industrialize analytics applications in support of continuous improvement, management decision-making, and operational effectiveness.\"\n",
      "}\n",
      "```\n"
     ]
    }
   ],
   "source": [
    "from langchain_core.prompts import PromptTemplate\n",
    "\n",
    "prompt_extract = PromptTemplate.from_template(\n",
    "        \"\"\"\n",
    "        ### SCRAPED TEXT FROM WEBSITE:\n",
    "        {page_data}\n",
    "        ### INSTRUCTION:\n",
    "        The scraped text is from the career's page of a website.\n",
    "        Your job is to extract the job postings and return them in JSON format containing the\n",
    "        following keys:'role,'experience','skills' and 'description' and return only one job description.\n",
    "        Only return the valid JSON.\n",
    "        ### VALID JSON (NO PREAMBLE):\n",
    "        \"\"\"\n",
    ")\n",
    "chain_extract = prompt_extract | llm\n",
    "res = chain_extract.invoke(input={'page_data':page_data})\n",
    "print(res.content)"
   ]
  },
  {
   "cell_type": "code",
   "execution_count": 77,
   "id": "9a6e85dd-43f8-4ba4-b1e1-d4b832fe6350",
   "metadata": {},
   "outputs": [
    {
     "data": {
      "text/plain": [
       "{'role': 'Senior Data Scientist',\n",
       " 'experience': 'Bachelor’s degree with 5 years of experience in data science, machine learning, artificial intelligence capabilities in the design, development and deployment of business solutions OR equivalent advanced degree (Master’s, Doctorate) with 2+ years of experience',\n",
       " 'skills': 'Python, R, Databricks, analytical, statistical, unsupervised/supervised learning, optimization, and visualization techniques',\n",
       " 'description': 'Apply advanced data science, machine learning, and artificial intelligence capabilities to develop and industrialize analytics applications in support of continuous improvement, management decision-making, and operational effectiveness.'}"
      ]
     },
     "execution_count": 77,
     "metadata": {},
     "output_type": "execute_result"
    }
   ],
   "source": [
    "from langchain_core.output_parsers import JsonOutputParser\n",
    "\n",
    "json_parser = JsonOutputParser()\n",
    "json_res = json_parser.parse(res.content)\n",
    "json_res"
   ]
  },
  {
   "cell_type": "code",
   "execution_count": 78,
   "id": "8e257996-228f-4c8a-95b7-bda8916d4d40",
   "metadata": {},
   "outputs": [
    {
     "data": {
      "text/html": [
       "<div>\n",
       "<style scoped>\n",
       "    .dataframe tbody tr th:only-of-type {\n",
       "        vertical-align: middle;\n",
       "    }\n",
       "\n",
       "    .dataframe tbody tr th {\n",
       "        vertical-align: top;\n",
       "    }\n",
       "\n",
       "    .dataframe thead th {\n",
       "        text-align: right;\n",
       "    }\n",
       "</style>\n",
       "<table border=\"1\" class=\"dataframe\">\n",
       "  <thead>\n",
       "    <tr style=\"text-align: right;\">\n",
       "      <th></th>\n",
       "      <th>Techstack</th>\n",
       "      <th>Links</th>\n",
       "    </tr>\n",
       "  </thead>\n",
       "  <tbody>\n",
       "    <tr>\n",
       "      <th>0</th>\n",
       "      <td>React, Node.js, MongoDB</td>\n",
       "      <td>https://example.com/react-portfolio</td>\n",
       "    </tr>\n",
       "    <tr>\n",
       "      <th>1</th>\n",
       "      <td>Angular,.NET, SQL Server</td>\n",
       "      <td>https://example.com/angular-portfolio</td>\n",
       "    </tr>\n",
       "    <tr>\n",
       "      <th>2</th>\n",
       "      <td>Vue.js, Ruby on Rails, PostgreSQL</td>\n",
       "      <td>https://example.com/vue-portfolio</td>\n",
       "    </tr>\n",
       "    <tr>\n",
       "      <th>3</th>\n",
       "      <td>Python, Django, MySQL</td>\n",
       "      <td>https://example.com/python-portfolio</td>\n",
       "    </tr>\n",
       "    <tr>\n",
       "      <th>4</th>\n",
       "      <td>Java, Spring Boot, Oracle</td>\n",
       "      <td>https://example.com/java-portfolio</td>\n",
       "    </tr>\n",
       "  </tbody>\n",
       "</table>\n",
       "</div>"
      ],
      "text/plain": [
       "                           Techstack                                  Links\n",
       "0            React, Node.js, MongoDB    https://example.com/react-portfolio\n",
       "1           Angular,.NET, SQL Server  https://example.com/angular-portfolio\n",
       "2  Vue.js, Ruby on Rails, PostgreSQL      https://example.com/vue-portfolio\n",
       "3              Python, Django, MySQL   https://example.com/python-portfolio\n",
       "4          Java, Spring Boot, Oracle     https://example.com/java-portfolio"
      ]
     },
     "execution_count": 78,
     "metadata": {},
     "output_type": "execute_result"
    }
   ],
   "source": [
    "import pandas as pd\n",
    "data = pd.read_csv(\"portfolios.csv\")\n",
    "data.head()"
   ]
  },
  {
   "cell_type": "code",
   "execution_count": 79,
   "id": "4c269c5c-743e-4005-af7a-e65b7e1062d4",
   "metadata": {},
   "outputs": [],
   "source": [
    "import uuid\n",
    "import chromadb\n",
    "chroma_client = chromadb.PersistentClient('vectorstore')\n",
    "\n",
    "collection = chroma_client.get_or_create_collection(name=\"my_portfolio\")\n",
    "\n",
    "if not collection.count():\n",
    "    for _, row in data.iterrows():\n",
    "        collection.add(documents=row[\"Techstack\"],\n",
    "                       metadatas = {\"links\": row[\"Links\"]},\n",
    "                       ids = [str(uuid.uuid4())]\n",
    "                      )\n"
   ]
  },
  {
   "cell_type": "code",
   "execution_count": 80,
   "id": "9437a214-d5cc-4ab0-bc51-5acfb55b4120",
   "metadata": {},
   "outputs": [
    {
     "data": {
      "text/plain": [
       "[[{'links': 'https://example.com/ml-python-portfolio'},\n",
       "  {'links': 'https://example.com/python-portfolio'}]]"
      ]
     },
     "execution_count": 80,
     "metadata": {},
     "output_type": "execute_result"
    }
   ],
   "source": [
    "links = collection.query(query_texts=json_res['skills'],\n",
    "                        n_results =2).get('metadatas')\n",
    "links"
   ]
  },
  {
   "cell_type": "code",
   "execution_count": 81,
   "id": "92c94e80-4ebf-4859-8afb-4dfc6d6dea42",
   "metadata": {},
   "outputs": [
    {
     "name": "stdout",
     "output_type": "stream",
     "text": [
      "Subject: Unlock the Power of Data Science with TCS\n",
      "\n",
      "Dear Hiring Manager,\n",
      "\n",
      "I came across the Senior Data Scientist role at your esteemed organization and was impressed by the emphasis on leveraging advanced data science, machine learning, and artificial intelligence capabilities to drive business growth. As a Business Development Executive at TCS, I'd like to introduce you to our expertise in empowering enterprises with tailored solutions that foster scalability, process optimization, cost reduction, and heightened overall efficiency.\n",
      "\n",
      "At TCS, we have a proven track record of delivering cutting-edge data science solutions that cater to the evolving needs of businesses. Our team of experts is well-versed in Python, R, Databricks, and various analytical, statistical, unsupervised/supervised learning, optimization, and visualization techniques. We've successfully developed and industrialized analytics applications that support continuous improvement, management decision-making, and operational effectiveness.\n",
      "\n",
      "I'd like to highlight a few examples of our work in machine learning and Python:\n",
      "\n",
      "* Our machine learning portfolio showcases our expertise in developing and deploying AI-powered solutions: https://example.com/ml-python-portfolio\n",
      "* Our Python portfolio demonstrates our proficiency in leveraging Python for data science and analytics: https://example.com/python-portfolio\n",
      "\n",
      "Our collaborative approach, combined with our technical expertise, enables us to deliver tailored solutions that meet the unique needs of our clients. I'd be delighted to schedule a call to discuss how TCS can support your organization in achieving its data science goals.\n",
      "\n",
      "Please feel free to reply to this email or give me a call at your convenience. I look forward to exploring the possibilities of working together.\n",
      "\n",
      "Best regards,\n",
      "\n",
      "Bharani S\n",
      "Business Development Executive\n",
      "TCS\n"
     ]
    }
   ],
   "source": [
    " prompt_email = PromptTemplate.from_template(\n",
    "        \"\"\"\n",
    "        ### JOB DESCRIPTION:\n",
    "        {job_description}\n",
    "        \n",
    "        ### INSTRUCTION:\n",
    "        You are Bharani S, a business development executive at TCS. TCS is an AI & Software Consulting company dedicated to facilitating\n",
    "        the seamless integration of business processes through automated tools. \n",
    "        Over our experience, we have empowered numerous enterprises with tailored solutions, fostering scalability, \n",
    "        process optimization, cost reduction, and heightened overall efficiency. \n",
    "        Your job is to write a cold email to the client regarding the job mentioned above describing the capability of TCS \n",
    "        in fulfilling their needs.\n",
    "        Also add the most relevant ones from the following links to showcase TCS's portfolio: {link_list}\n",
    "        Remember you are Bharani, BDE at TCS. \n",
    "        Do not provide a preamble.\n",
    "        ### EMAIL (NO PREAMBLE):\n",
    "        \n",
    "        \"\"\"\n",
    "        )\n",
    "\n",
    "chain_email = prompt_email | llm\n",
    "res = chain_email.invoke({\"job_description\": str(json_res), \"link_list\": links})\n",
    "print(res.content)"
   ]
  },
  {
   "cell_type": "code",
   "execution_count": null,
   "id": "a9663f08-491c-43c5-9adb-8ac097a300cc",
   "metadata": {},
   "outputs": [],
   "source": []
  }
 ],
 "metadata": {
  "kernelspec": {
   "display_name": "Python 3 (ipykernel)",
   "language": "python",
   "name": "python3"
  },
  "language_info": {
   "codemirror_mode": {
    "name": "ipython",
    "version": 3
   },
   "file_extension": ".py",
   "mimetype": "text/x-python",
   "name": "python",
   "nbconvert_exporter": "python",
   "pygments_lexer": "ipython3",
   "version": "3.11.5"
  }
 },
 "nbformat": 4,
 "nbformat_minor": 5
}
